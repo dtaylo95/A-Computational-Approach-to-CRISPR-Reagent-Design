{
 "cells": [
  {
   "cell_type": "markdown",
   "metadata": {
    "id": "mmRJcPOfzK1P"
   },
   "source": [
    "# (Slighty more) Advanced Python\n",
    "\n",
    "Now that we've gone over variables and some of the basic data types available in Python (integers, floats, strings, lists, and dictionaries), as well as some of the basic things we can do with these data types, we'd like to discuss some more advanced operations you can do in Python."
   ]
  },
  {
   "cell_type": "markdown",
   "metadata": {
    "id": "6Ps26RFbuV7v"
   },
   "source": [
    "## For Loops\n",
    "\n",
    "Frequently, it is useful to walk through an entire set of data and perform the same (or similar) actions on that data. That's a fairly broad statement, so let's provide some context.\n",
    "\n",
    "Imagine you have a list of genes, as DNA sequences, and you want to convert all of those DNA sequences into amino acid sequences. You need to be able to move through your list and \"translate\" each DNA sequence string into an amino acid string.\n",
    "\n",
    "Furthermore, to be able to translate your DNA sequences, you need to be able to move through each of those sequences, converting each three-character-long codon into an amino acid.\n",
    "\n",
    "We need to be able to step or **loop** through our data, and perform the same operation at each step.\n",
    "\n",
    "For this purpose we can use something called a `for` loop.\n",
    "\n",
    "Let's start simple. Say we have the following list:"
   ]
  },
  {
   "cell_type": "code",
   "execution_count": null,
   "metadata": {
    "collapsed": true,
    "id": "Wnsf8T-2uV7v"
   },
   "outputs": [],
   "source": [
    "my_list = [1,2,3,4,5,6]"
   ]
  },
  {
   "cell_type": "markdown",
   "metadata": {
    "id": "CkJsOV20uV7v"
   },
   "source": [
    "We want to run through this list and print each element of the list. We can print the whole list at once by simply running this command `print(my_list)`, but here we want to print each element individually. To do so we use the following structure:"
   ]
  },
  {
   "cell_type": "code",
   "execution_count": null,
   "metadata": {
    "id": "2DCYDhY4uV7w"
   },
   "outputs": [],
   "source": [
    "for x in my_list:\n",
    "    print(x)"
   ]
  },
  {
   "cell_type": "markdown",
   "metadata": {
    "id": "ZiywgwuIuV7w"
   },
   "source": [
    "There are a few things to note here.\n",
    "\n",
    "The `x` is a temporary variable. Each time you iterate through the list (i.e., each time you \"move\" from one element of the list to the next one), `x` gets assigned to the next element in the list. As with other variables, you can (mostly) name this variable whatever you want. So the below code cell will print exactly the same thing as the loop above."
   ]
  },
  {
   "cell_type": "code",
   "execution_count": null,
   "metadata": {
    "id": "sXWUouWMACnr"
   },
   "outputs": [],
   "source": [
    "for number in my_list:\n",
    "    print(number)"
   ]
  },
  {
   "cell_type": "markdown",
   "metadata": {
    "id": "ElOvCF8UXaOa"
   },
   "source": [
    "\n",
    "The structure of the for loop is:\n",
    "\n",
    "```\n",
    "for <temporary_variable> in <thing_to_loop_through>:\n",
    "    {do something}\n",
    "```\n",
    "\n",
    "The instructions of what to do on each iteration are after the first line and are indented by a single `tab`.<br/><br/>\n",
    "\n",
    "Let's break this down a little bit more.\n",
    "\n",
    "In our example above, the `for` loop starts at the beginning of the list, setting `x` as the zeroth element of the list (in this case, the number `1`). Then it applies the instructions we gave it to each element. In this case, `print(x)` which will print `1`, because the temporary variable `x` is currently assigned the value of `1`. Because our instructions are now over, it will \"move\" to the next element in the list, setting `x` as `2` and so on. It will continue until the end of the list.\n",
    "\n",
    "What if we wanted to print each element of the list multiplied by 2?"
   ]
  },
  {
   "cell_type": "code",
   "execution_count": null,
   "metadata": {
    "id": "YM7F_PLWuV7x"
   },
   "outputs": [],
   "source": [
    "for x in my_list:\n",
    "    print(2*x)"
   ]
  },
  {
   "cell_type": "markdown",
   "metadata": {
    "id": "o0HSm9RSuV7x"
   },
   "source": [
    "Once we un-indent, we're no longer in the `for` loop. What should the below print?"
   ]
  },
  {
   "cell_type": "code",
   "execution_count": null,
   "metadata": {
    "id": "cHMdf7KDuV7y"
   },
   "outputs": [],
   "source": [
    "for x in my_list:\n",
    "    print(x)\n",
    "\n",
    "print('Hello')"
   ]
  },
  {
   "cell_type": "markdown",
   "metadata": {
    "id": "Vyy6kzGbm1_I"
   },
   "source": [
    "<font color='red'>**NOTE:**</font> The `for` loop does not necesssarily modify the thing that we are looping through. Even if we do `print(2*x)`, the values in `my_list` remain unchanged. You **can** use a for loop to modify something, but we won't do that for this class. "
   ]
  },
  {
   "cell_type": "code",
   "execution_count": null,
   "metadata": {
    "id": "NiEG-A_qdl1c"
   },
   "outputs": [],
   "source": [
    "print(my_list) # note that it's still the same list as before, even though we've put it through a couple of `for` loops."
   ]
  },
  {
   "cell_type": "markdown",
   "metadata": {
    "id": "LlZy-AQysh4A"
   },
   "source": [
    "`for` loops also work with strings and dictionaries.\n",
    "\n",
    "In the case of strings, you loop through each character in the string. Take a look at the example below. (Recall that the temporary variable can be anything; it doesn't have to be \"x\".)"
   ]
  },
  {
   "cell_type": "code",
   "execution_count": null,
   "metadata": {
    "id": "JQtAnXLYs_HC"
   },
   "outputs": [],
   "source": [
    "my_string = 'ATGGCA'\n",
    "\n",
    "for char in my_string:\n",
    "    print(char)"
   ]
  },
  {
   "cell_type": "markdown",
   "metadata": {
    "id": "nJNLXP2Ftju6"
   },
   "source": [
    "You'll notice that for both lists and strings, the `for` loop moves through sequentially, from beginning to end.\n",
    "\n",
    "Dictionaries are not ordered, and looping through them occurs in a random order. That being said, each element in the dictionary will only be \"visited\" once. When looping through dictionaries, the temporary variable is assigned to the **keys** in the the dictionary. We can then look up the assigned key in the dictionary to grab the associated value."
   ]
  },
  {
   "cell_type": "code",
   "execution_count": 1,
   "metadata": {
    "id": "Qis2XO1QvkVD"
   },
   "outputs": [
    {
     "name": "stdout",
     "output_type": "stream",
     "text": [
      "ATGACAG\n",
      "GGACATG\n",
      "GAATACT\n"
     ]
    }
   ],
   "source": [
    "my_dict = {'ATGACAG' : 4,\n",
    "           'GGACATG' : 2,\n",
    "           'GAATACT' : 1}\n",
    "\n",
    "for sequence in my_dict:\n",
    "    print(sequence)"
   ]
  },
  {
   "cell_type": "code",
   "execution_count": 2,
   "metadata": {
    "id": "GHUKWSUtv3eQ"
   },
   "outputs": [
    {
     "name": "stdout",
     "output_type": "stream",
     "text": [
      "ATGACAG 4\n",
      "GGACATG 2\n",
      "GAATACT 1\n"
     ]
    }
   ],
   "source": [
    "my_dict = {'ATGACAG' : 4,\n",
    "           'GGACATG' : 2,\n",
    "           'GAATACT' : 1}\n",
    "\n",
    "for sequence in my_dict:\n",
    "    sequence_value = my_dict[sequence]\n",
    "    print(sequence, sequence_value)"
   ]
  },
  {
   "cell_type": "markdown",
   "metadata": {
    "id": "iC9y_g_5BhQ0"
   },
   "source": [
    "Alternatively, we can use the `.items()` method on our list to loop through the keys and values at the same time. Here, we pass the for loop two temporary variables, `sequence` and `sequence_value`. Whatever instruction (or function) we call within the loop will apply to both of those temporary variables. \n",
    "\n",
    "The `items()` method grabs the key-value pairs within the dictionary. Our two temporary variables apply names to the key and the value, so we can do operations on them. Here's an example where we just print both the key and the value:"
   ]
  },
  {
   "cell_type": "code",
   "execution_count": 4,
   "metadata": {
    "id": "HdGWw-juBocB"
   },
   "outputs": [
    {
     "name": "stdout",
     "output_type": "stream",
     "text": [
      "ATGACAG 4\n",
      "GGACATG 2\n",
      "GAATACT 1\n"
     ]
    }
   ],
   "source": [
    "my_dict = {'ATGACAG' : 4,\n",
    "           'GGACATG' : 2,\n",
    "           'GAATACT' : 1}\n",
    "\n",
    "for sequence, sequence_value in my_dict.items():\n",
    "    print(sequence, sequence_value)"
   ]
  },
  {
   "cell_type": "markdown",
   "metadata": {},
   "source": [
    "Here's the same idea, but we'll treat the two variables differently; we'll print the value plus two: "
   ]
  },
  {
   "cell_type": "code",
   "execution_count": 6,
   "metadata": {},
   "outputs": [
    {
     "name": "stdout",
     "output_type": "stream",
     "text": [
      "ATGACAG\n",
      "6\n",
      "GGACATG\n",
      "4\n",
      "GAATACT\n",
      "3\n"
     ]
    }
   ],
   "source": [
    "for sequence, sequence_value in my_dict.items():\n",
    "    print(sequence)\n",
    "    print(sequence_value + 2)"
   ]
  },
  {
   "cell_type": "markdown",
   "metadata": {},
   "source": [
    "So for the first key-value pair in the dictionary, it prints its sequence and then the value plus two; then it moves on to the next key-value pair. "
   ]
  },
  {
   "cell_type": "markdown",
   "metadata": {
    "id": "kKawvWKqaCyO"
   },
   "source": [
    "### The range() function\n",
    "\n",
    "The `range()` function returns something like a list of sequential integers. The basic syntax is `range(start, stop)`. Like with indexing lists, the stop is *not* included in the sequence.\n",
    "\n",
    "Also like indexing lists, we can add a third argument when calling this function that defines the *step size* at which the sequential integers are generated. In this case, the syntax is `range(start, stop, step)`\n",
    "\n",
    "<font color='red'>**NOTE:**</font> `range()` only works with integers. `start`, `stop`, and `step` (if included) must all be integers."
   ]
  },
  {
   "cell_type": "code",
   "execution_count": null,
   "metadata": {
    "id": "Cqsb0HZfuV7z"
   },
   "outputs": [],
   "source": [
    "# We have a series of numbers from 1 through 10 (not including 10) \n",
    "# We want to print every other number (step in groups of 2)\n",
    "\n",
    "sample_range = range(1, 10, 2)\n",
    "for value in sample_range:\n",
    "    # What should this show us?\n",
    "    print(value)"
   ]
  },
  {
   "cell_type": "markdown",
   "metadata": {
    "id": "zYN-xgc-uV70"
   },
   "source": [
    "## Conditionals\n",
    "\n",
    "Sometimes, we want to check the value of a variable and act differently based on whether a specific condition is met. Our code would carry out one set of instructions if the variable meets a certain condition, and another set of instructions if it doesn't (or meets another condition).\n",
    "\n",
    "We can do so using the `if`, `else` structure.\n",
    "\n",
    "```\n",
    "if {some conditional}:\n",
    "    {do something}\n",
    "else:\n",
    "    {do something else}\n",
    "```\n",
    "\n",
    "Like with the `for` loop, whatever code we want to run if a given conditional is met is indented (using the `tab` key, or four spaces) under that condition.\n",
    "\n",
    "There are tons of conditions we can check, but the basic ones are:\n",
    "\n",
    "`x < y`  is x less than y<br>\n",
    "`x <= y` is x less than or equal to y<br>\n",
    "`x > y`  is x greater than y<br>\n",
    "`x >= y` is x greater than or equal to y<br>\n",
    "`x == y` is x equal to y (note that this is the mathematical operation for checking whether two variables are equal; it is different from `=` which is used for variable assignment)<br>\n",
    "`x != y` is x NOT equal to y\n",
    "\n",
    "We can also check whether a certain element appears in a list or set, whether a certain key appears in a dictionary, or whether a certain substring is present in a string. We do so using the following conditional: `x in y`\n",
    "\n",
    "We first check a condition using `if`. For example, we could check whether our variable is smaller than 20, and print something if it is."
   ]
  },
  {
   "cell_type": "code",
   "execution_count": null,
   "metadata": {
    "collapsed": true,
    "id": "x3T_b2nDuV71"
   },
   "outputs": [],
   "source": [
    "my_var = 12\n",
    "\n",
    "if my_var < 20:\n",
    "    print(\"This is a small number\")"
   ]
  },
  {
   "cell_type": "markdown",
   "metadata": {
    "id": "ilmcxIbnuV72"
   },
   "source": [
    "As it is now, if our variable is greater than or equal to 20, our code doesn't do anything and will just move on. If we want to do something else if this is the case, we can use an `else` statement."
   ]
  },
  {
   "cell_type": "code",
   "execution_count": null,
   "metadata": {
    "collapsed": true,
    "id": "3p6YmTZvuV73"
   },
   "outputs": [],
   "source": [
    "my_var = 12\n",
    "\n",
    "if my_var < 20:\n",
    "    print(\"This is a small number\")\n",
    "else:\n",
    "    print(\"This is a big number\")"
   ]
  },
  {
   "cell_type": "markdown",
   "metadata": {
    "id": "Eg0L8lqNuV73"
   },
   "source": [
    "Let's say we're looping through a list using the `range()` function. We want to print each value of the list *unless* it's the first element, in which case we want to print that value multiplied by 2. Try to figure out what the below code will print before running it."
   ]
  },
  {
   "cell_type": "code",
   "execution_count": null,
   "metadata": {
    "collapsed": true,
    "id": "tsILEcd7uV73"
   },
   "outputs": [],
   "source": [
    "my_list = [5,4,3,2,1]\n",
    "\n",
    "for i in range(len(my_list)):\n",
    "    if i == 0:\n",
    "        print(2*i)\n",
    "    else:\n",
    "        print(i)"
   ]
  },
  {
   "cell_type": "markdown",
   "metadata": {
    "id": "i_R-d3q9Dptl"
   },
   "source": [
    "### Booleans\n",
    "\n",
    "When we're checking conditionals, we're actually evaluating another data type: **booleans**. \n",
    "\n",
    "Very basically, booleans can have one of two values: `True` or `False`. Let's check what happens if we *print out* one of our conditions:"
   ]
  },
  {
   "cell_type": "code",
   "execution_count": null,
   "metadata": {
    "id": "CPQbr4ZOE56x"
   },
   "outputs": [],
   "source": [
    "print(2 < 4)"
   ]
  },
  {
   "cell_type": "markdown",
   "metadata": {
    "id": "PAuNO7hhE9xi"
   },
   "source": [
    "When we're checking conditionals, we're checking whether the expression after the `if` evaluates to `True` or `False`.\n",
    "\n",
    "One thing we can also do is reverse a boolean value by writing the word `not` before the value."
   ]
  },
  {
   "cell_type": "code",
   "execution_count": null,
   "metadata": {
    "id": "1Ndn-380FzHR"
   },
   "outputs": [],
   "source": [
    "print(not (2 < 4))"
   ]
  },
  {
   "cell_type": "markdown",
   "metadata": {
    "id": "18vtUPoPB7D9"
   },
   "source": [
    "We can also check multiple booleans using the `and` and `or` operators.\n",
    "\n",
    "When using `and`, if **both** of the two expressions on either side of the `and` evaluate to `True`, the whole expression will evaluate to `True`. If only one evaluates to `True` while the other is `False` (or, intuitively, if both are `False`), the whole expression will evaluate to `False`."
   ]
  },
  {
   "cell_type": "code",
   "execution_count": null,
   "metadata": {
    "id": "MSJCROR-CZFr"
   },
   "outputs": [],
   "source": [
    "print((2<4) and (3>4))"
   ]
  },
  {
   "cell_type": "code",
   "execution_count": null,
   "metadata": {
    "id": "DanNTJD5CdrB"
   },
   "outputs": [],
   "source": [
    "print((2<4) and (3<4))"
   ]
  },
  {
   "cell_type": "markdown",
   "metadata": {
    "id": "Q3xICsfdC4KW"
   },
   "source": [
    "When using `or`, if **either** or both of the two expression on either side of the `or` evaluate to `True`, the whole expression will evaluate to `True`. "
   ]
  },
  {
   "cell_type": "code",
   "execution_count": 8,
   "metadata": {
    "id": "W6N74z_5D9Pn",
    "scrolled": true
   },
   "outputs": [
    {
     "name": "stdout",
     "output_type": "stream",
     "text": [
      "True\n"
     ]
    }
   ],
   "source": [
    "print((2 < 4) or (3 > 4))"
   ]
  },
  {
   "cell_type": "code",
   "execution_count": null,
   "metadata": {
    "id": "NQPLtGqXaI6J"
   },
   "outputs": [],
   "source": [
    "print((2 < 4) or (3 < 4))"
   ]
  },
  {
   "cell_type": "markdown",
   "metadata": {
    "id": "N8Xf36sjuV74"
   },
   "source": [
    "## Building Functions\n",
    "\n",
    "The last topic we need to discuss is functions. We've seen several examples of built-in functions already (like `split()` or `upper()`, but now we're going to learn how to make our own. \n",
    "\n",
    "At its most basic, a function takes some number of inputs and *returns* some output or outputs (typically based on those inputs). As discussed above, when we say a function **returns** an output, we mean that we can store the output of the function to a variable. Some functions do not return an output, but instead do some operation (for example, the `print()` function, as we saw, does not return an output; assigning the output of `print(my_var)` to a variable will result in a variable with the value of `None`).\n",
    "\n",
    "See the [Built-in Python Functions](#built-ins) section for more information. \n",
    "\n",
    "A function has the following structure:\n",
    "\n",
    "```\n",
    "def my_function(<arg1>, <arg2>, ...):\n",
    "    {do something}\n",
    "    return <output1>, <output2>, ...\n",
    "```\n",
    "\n",
    "First, we name our function. Above, we named it `my_function`. Then, we decide on the inputs (called <font color='green'>**arguments**</font>) we want, and we put those in parentheses and separated by commas.\n",
    "\n",
    "The body of our function contains information (or instructions) on what we want the function to do; this often be involves manipulating the inputs in some way. \n",
    "\n",
    "At the end of the body of our function, we have a `return` statement that will \"output\" what we tell it to. This output can be stored as a variable, used in a conditional, added to a list, etc."
   ]
  },
  {
   "cell_type": "markdown",
   "metadata": {
    "id": "RyU06MjBuV74"
   },
   "source": [
    "Let's write a simple function that takes two numbers (`x` and `y`) and adds them together."
   ]
  },
  {
   "cell_type": "code",
   "execution_count": null,
   "metadata": {
    "collapsed": true,
    "id": "jTtaVcYCuV74"
   },
   "outputs": [],
   "source": [
    "def our_add_function(x, y):\n",
    "    added_value = x + y\n",
    "    return added_value"
   ]
  },
  {
   "cell_type": "markdown",
   "metadata": {
    "id": "EkWHmbIWuV75"
   },
   "source": [
    "Now we <font color='green'>**call**</font> our function. To call a function simply means to run it; we do so by writing the name of the function  followed by parentheses and writing the arguments inside the parentheses. Let's call `our_add_function()` on two numbers and store that output in a variable we call `added_number`. "
   ]
  },
  {
   "cell_type": "code",
   "execution_count": null,
   "metadata": {
    "collapsed": true,
    "id": "z3Cdt6uauV75"
   },
   "outputs": [],
   "source": [
    "added_number = our_add_function(3, 5.5)\n",
    "\n",
    "print(added_number)"
   ]
  },
  {
   "cell_type": "markdown",
   "metadata": {
    "id": "d_9JJbHRgcqd"
   },
   "source": [
    "Let's explore a little more deeply what's happening here. Like with `for` loops, the argument names chosen when defining your function are *temporary* variable names. When defining our function, we named our arguments `x` and `y`, and it is these variable names we use within the body of our function.\n",
    "\n",
    "When we call our function, the arguments we pass the function are stored in those temporary variables. For the above example, when we call `our_add_function(3, 5.5)`, the `x` variable in our function is set to `3`, and the `y` variable is set to `5.5`. "
   ]
  },
  {
   "cell_type": "markdown",
   "metadata": {
    "id": "kF1WOwfyuV76"
   },
   "source": [
    "We can also write a function that returns two (or more) outputs. When we do so, the output is stored in a data type called a **tuple**, which is similar to a list. Like a list, we can index a tuple to grab an element at a specific position.\n",
    "\n",
    "Let's write a function that takes two numbers (`x` and `y`) as inputs and returns their sum, and also returns their product."
   ]
  },
  {
   "cell_type": "code",
   "execution_count": null,
   "metadata": {
    "id": "_dEyvWU4uV76"
   },
   "outputs": [],
   "source": [
    "def our_double_function(x, y):\n",
    "    return x+y, x*y"
   ]
  },
  {
   "cell_type": "markdown",
   "metadata": {
    "id": "UkQ7MG10uV76"
   },
   "source": [
    "As before, let's call our function on two numbers and store the output in a variable."
   ]
  },
  {
   "cell_type": "code",
   "execution_count": null,
   "metadata": {
    "collapsed": true,
    "id": "lrEXq9Y0uV77"
   },
   "outputs": [],
   "source": [
    "results = our_double_function(2, 3)\n",
    "\n",
    "print(results[0])\n",
    "print(results[1])"
   ]
  },
  {
   "cell_type": "markdown",
   "metadata": {
    "id": "LIzCQBochoim"
   },
   "source": [
    "Python is actually smart enough to store both outputs to variable names at the same time, if you want to."
   ]
  },
  {
   "cell_type": "code",
   "execution_count": null,
   "metadata": {
    "id": "Dzy85Ozzh49H"
   },
   "outputs": [],
   "source": [
    "our_sum, our_product = our_double_function(2, 3)\n",
    "\n",
    "print(our_sum)\n",
    "print(our_product)"
   ]
  },
  {
   "cell_type": "markdown",
   "metadata": {
    "id": "LTMxrXCyrKP5"
   },
   "source": [
    "# Bonus Materials \n"
   ]
  },
  {
   "cell_type": "markdown",
   "metadata": {
    "id": "PI3VgLeJ3ol9"
   },
   "source": [
    "## Sets\n",
    "\n",
    "Sets are the last data type we'll discuss in this notebook. Sets have similarities with both lists and dictionaries, and are an incredibly powerful tool in Python.\n",
    "\n",
    "Sets are like lists in that they comprise a group of individual elements. Like in lists, these elements can be different data types: integers, floats, or strings.\n",
    "\n",
    "<font color='red'>**NOTE:**</font> Unlike lists, sets cannot contain other sets, lists, or dictionaries. The reason why is far beyond the scope of this tutorial. For now, just try to remember that sets can contain the three most basic data types (integers, floats, and strings) and none of the more \"complex\" data types (lists, dictionaries, sets) that are built on the more basic data types.\n",
    "\n",
    "Sets are like dictionaries in that:\n",
    "1.   Sets are not ordered. There is no \"zeroth\" or \"first\" element in a set\n",
    "2.   Elements cannot be repeated within a set\n",
    "\n",
    "A set is defined using curly brackets `{}` surrounding the elements, and elements are separated with commas `,`. Let's take a look at an example below."
   ]
  },
  {
   "cell_type": "code",
   "execution_count": null,
   "metadata": {
    "id": "RUg3iL9z5szc"
   },
   "outputs": [],
   "source": [
    "sample_set = {1,2,3}"
   ]
  },
  {
   "cell_type": "markdown",
   "metadata": {
    "id": "vNxWp-e7-YPl"
   },
   "source": [
    "<font color='red'>**NOTE:**</font> If you want to make an empty dictionary, you can simply just use curly brackets with nothing inside of them `{}`. If you want to make an empty set, you can't do the same thing, because Python will assume that it is a dictionary. Instead, you can simply write `set()`. Take a look below."
   ]
  },
  {
   "cell_type": "code",
   "execution_count": null,
   "metadata": {
    "id": "aEu9yDLE_qHr"
   },
   "outputs": [],
   "source": [
    "# Recall that `type()` is a built-in function that tells you the data type of whatever argument you pass it\n",
    "empty_dict = {}\n",
    "print(type(empty_dict)) \n",
    "\n",
    "empty_set = set()\n",
    "print(type(empty_set))"
   ]
  },
  {
   "cell_type": "markdown",
   "metadata": {
    "id": "NLsA3OPkBOqW"
   },
   "source": [
    "If you want to add an element to a set, you can use the `add()` method (this works the same way as the `append()` does for a list). Let's take a look at the example below."
   ]
  },
  {
   "cell_type": "code",
   "execution_count": null,
   "metadata": {
    "id": "VBTEGTf3DT0o"
   },
   "outputs": [],
   "source": [
    "sample_set = {1,2,3}\n",
    "print(sample_set)\n",
    "\n",
    "sample_set.add(4) \n",
    "print(sample_set)"
   ]
  },
  {
   "cell_type": "markdown",
   "metadata": {},
   "source": [
    "Note that if you try to add an element that's already in the set, nothing happens; each element can only be in a set once."
   ]
  },
  {
   "cell_type": "code",
   "execution_count": null,
   "metadata": {},
   "outputs": [],
   "source": [
    "# What happens if you try to add an element that's already in the set?\n",
    "sample_set.add(2)\n",
    "print(sample_set)"
   ]
  },
  {
   "cell_type": "markdown",
   "metadata": {
    "id": "WOIb190yETCg"
   },
   "source": [
    "Finally, as with dictionaries, we can loop through sets, though recall that sets are not ordered (so the output may not match the order in which you initally defind the set). Let's take a look at an example:"
   ]
  },
  {
   "cell_type": "code",
   "execution_count": 12,
   "metadata": {
    "id": "LRAUDQQdEaUA"
   },
   "outputs": [
    {
     "name": "stdout",
     "output_type": "stream",
     "text": [
      "3\n",
      "one\n",
      "2.0\n"
     ]
    }
   ],
   "source": [
    "sample_set = {\"one\", 2.0, 3}\n",
    "\n",
    "for num in sample_set:\n",
    "    print(num)"
   ]
  },
  {
   "cell_type": "markdown",
   "metadata": {
    "id": "UZvh2B34QK7f"
   },
   "source": [
    "## The setdefault() Method\n",
    "\n",
    "The `setdefault()` method acts similarly to the `append()` and `add()` methods but is specific to *dictionaries*.\n",
    "\n",
    "The `setdefault()` method takes two arguments: a key, and an associated value. When calling the method on a dictionary, it does a few things. First, the method checks whether the key passed to the argument is present in the dictionary. If the key *is* already in the dictionary, it does nothing. However, if the key *is not* in the dictionary, it adds that key to the dictionary, with the value you also passed to the method.\n",
    "\n",
    "The syntax is as follows: `<dict_name>.setdefault(<key>,<value>)`\n",
    "\n",
    "Let's take a look at an example below."
   ]
  },
  {
   "cell_type": "code",
   "execution_count": 13,
   "metadata": {
    "id": "aupRgGwhS6bR"
   },
   "outputs": [
    {
     "name": "stdout",
     "output_type": "stream",
     "text": [
      "{'Name': 'Alice', 'Age': 25, 'Favorite Animal': 'Dog'}\n",
      "{'Name': 'Alice', 'Age': 25, 'Favorite Animal': 'Dog'}\n"
     ]
    }
   ],
   "source": [
    "sample_dict = {'Name' : 'Alice',\n",
    "               'Age' : 25}\n",
    "\n",
    "sample_dict.setdefault('Favorite Animal', 'Dog')\n",
    "print(sample_dict) # How does this change the dictionary?\n",
    "\n",
    "sample_dict.setdefault('Favorite Animal', 'Cat')\n",
    "print(sample_dict) # How does this change the dictionary?"
   ]
  },
  {
   "cell_type": "markdown",
   "metadata": {
    "id": "Rm8qAqCWSzTa"
   },
   "source": [
    "See if you can figure out whether the `setdefault()` method returns an output in the cell below."
   ]
  },
  {
   "cell_type": "code",
   "execution_count": null,
   "metadata": {
    "id": "G-kx9ZENUXGR"
   },
   "outputs": [],
   "source": [
    "# Use this space to check whether `setdefault()` returns an output"
   ]
  },
  {
   "cell_type": "markdown",
   "metadata": {
    "id": "2DMQXH71qw_M"
   },
   "source": [
    "## List comprehension\n",
    "\n",
    "This is a fairly advanced concept and is  not required to understand for this course. That being said, it is a useful skill to have if you are interested in doing any sort of programming in the future.<br/><br/>\n",
    "\n",
    "Let's say that we have some list of numbers and we want to create a new list where the elements are the elements of the intitial list multiplied by 2. We should be able to do that without any new functionality by using a for loop.\n",
    "\n",
    "Before you look at the code cell below, try to figure out how you might do this."
   ]
  },
  {
   "cell_type": "code",
   "execution_count": null,
   "metadata": {
    "id": "rkSZB9V-sZK0"
   },
   "outputs": [],
   "source": [
    "starting_list = [1,2,3,4,5,6]\n",
    "\n",
    "new_list = [] # Start with an empty list. We'll be filling this list with our new values.\n",
    "for x in starting_list:\n",
    "  new_list.append(2*x)\n",
    "\n",
    "print(new_list)"
   ]
  },
  {
   "cell_type": "markdown",
   "metadata": {
    "id": "jXmfvLO_wnUY"
   },
   "source": [
    "Python actually has built-in functionality to do this more efficiently, called <font color='green'>**list comprehension**</font>. To generate a new list by applying an operation (or operations) to each of the elements in a starting list, you can use the following syntax:\n",
    "\n",
    "`<new_list> = [{operations on <temporary variable>} for <temporary_variable> in <starting_list>]`\n",
    "\n",
    "Here, `operations` just represents the set of operations you're doing to the elements in `starting_list`.\n",
    "\n",
    "So let's see how we would replicate our \"multiply by two\" `for` loop above using list comprehension."
   ]
  },
  {
   "cell_type": "code",
   "execution_count": null,
   "metadata": {
    "id": "cTIgjI-R2kIh"
   },
   "outputs": [],
   "source": [
    "starting_list = [1,2,3,4,5,6]\n",
    "\n",
    "new_list = [2*x for x in starting_list]"
   ]
  },
  {
   "cell_type": "markdown",
   "metadata": {
    "id": "cjFemJgU3hgq"
   },
   "source": [
    "Here, the `2*x` is the `operations` discussed above. You can imagine, we could include quite complex operations if we wished."
   ]
  }
 ],
 "metadata": {
  "colab": {
   "collapsed_sections": [
    "6kjjV-YxuV7f"
   ],
   "provenance": []
  },
  "kernelspec": {
   "display_name": "Python 3",
   "language": "python",
   "name": "python3"
  },
  "language_info": {
   "codemirror_mode": {
    "name": "ipython",
    "version": 3
   },
   "file_extension": ".py",
   "mimetype": "text/x-python",
   "name": "python",
   "nbconvert_exporter": "python",
   "pygments_lexer": "ipython3",
   "version": "3.8.5"
  }
 },
 "nbformat": 4,
 "nbformat_minor": 1
}
