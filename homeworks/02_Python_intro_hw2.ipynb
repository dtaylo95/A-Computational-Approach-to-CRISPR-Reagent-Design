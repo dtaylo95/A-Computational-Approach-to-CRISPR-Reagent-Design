{
 "cells": [
  {
   "cell_type": "markdown",
   "metadata": {
    "id": "4jG9ehKo0TMc"
   },
   "source": [
    "# **Welcome to Week 2!** \n",
    "This week we'll use the buildling blocks you learned last week and in the advanced section of Intro to Python to get you closer to designing your own CRISPR reagents. \n"
   ]
  },
  {
   "cell_type": "markdown",
   "metadata": {
    "id": "rEk5tGSy0Yja"
   },
   "source": [
    "---\n",
    "# Comparing two DNA sequences \n",
    "Last week, we were working with a segment of the `rol-6` gene. We're going to work with this sequence again this week. We've copied the sequence here; store it as a string in the code cell *below*. \n",
    "\n",
    "`GCACATTCCAATTGTAGacaaattca`"
   ]
  },
  {
   "cell_type": "code",
   "execution_count": null,
   "metadata": {
    "id": "PWHkAuBb0Rba"
   },
   "outputs": [],
   "source": [
    "# Store your DNA sequence here"
   ]
  },
  {
   "cell_type": "markdown",
   "metadata": {
    "id": "wphXIYl40a9S"
   },
   "source": [
    "A grad student in Bob Johnston's lab was sequencing the genome of one of their worm strains. The student noticed that their worms had a slightly different DNA sequence in the `rol-6` gene region. In place of the sequence above, their worms had the sequence `GCTTATTGGAATTGTAGagtaattca`. We'd like to try to quantify how different their sequence is from our sequence. Store Bob's new sequence as its own variable in the code cell below so we can compare. "
   ]
  },
  {
   "cell_type": "code",
   "execution_count": null,
   "metadata": {
    "id": "4kUzlzB90c9g"
   },
   "outputs": [],
   "source": [
    "# Store Bob's sequence here "
   ]
  },
  {
   "cell_type": "markdown",
   "metadata": {
    "id": "6LpxVFU00e2I"
   },
   "source": [
    "We want to know at which positions our two sequences differ. (Obviously, in this case, we can just look by eye, but often you'll be dealing with sequences that don't even fit on a single page - thousands of nucleotides - and in those cases, you'll want to have some automated process). \n",
    "\n",
    "Go through both sequences and check whether they're the same at each position. Have your code print the position of each nucleotide where your sequence is not the same as Bob's. We only care about the nucleotide itself - so it doesn't matter not whether its coding or non-coding (but remember, to Python, `a` is not the same as `A`)."
   ]
  },
  {
   "cell_type": "code",
   "execution_count": null,
   "metadata": {
    "id": "wMCxKDAR0im5"
   },
   "outputs": [],
   "source": [
    "# Write code to print the position where the nucleotide in Bob's sequence is different from the nucleotide in yours "
   ]
  },
  {
   "cell_type": "markdown",
   "metadata": {
    "id": "_a-GutXD0k3O"
   },
   "source": [
    "This works, but the ouput is a little bit ugly. Last week, you learned how to concatenate (combine) strings together. We can use this concept here to make the output nicer.\n",
    "\n",
    "Copy your code from directly above into the code block below. Update your code so that instead of just printing the positions of the bases that are different, it prints an informative message for each (e.g., \"The sequences differ at position 2\" rather than just the number 2). "
   ]
  },
  {
   "cell_type": "markdown",
   "metadata": {},
   "source": [
    "#@title <font color='green'>Click here for a hint</font>\n",
    "#Hint: Remember, you can't concatenate strings and integers together. You'll need to find some way to convert the integers to strings."
   ]
  },
  {
   "cell_type": "code",
   "execution_count": null,
   "metadata": {
    "id": "Hu0AebgG0678"
   },
   "outputs": [],
   "source": [
    "# Update your comparison code here; instead of just printing the position number, print an informative message"
   ]
  },
  {
   "cell_type": "markdown",
   "metadata": {
    "id": "z1wQV7_D1BJ_"
   },
   "source": [
    "You'd like to share the positions that differ with Bob and his grad student. Specifically, you'd like to send Bob a **list** of the positions where your sequences differ.\n",
    "\n",
    "Again, copy your code from above into the code cell below. Update your code so that instead of printing out the position of each difference on its own line, it instead generates a list containing the positions of each nucleotide that is different between the sequences. When you're done, print the list."
   ]
  },
  {
   "cell_type": "code",
   "execution_count": null,
   "metadata": {
    "id": "1VQTzz6R1EGP"
   },
   "outputs": [],
   "source": [
    "# Paste your comparison code here, updating it to generate a list of positions where the sequences differ "
   ]
  },
  {
   "cell_type": "markdown",
   "metadata": {
    "id": "ac0P8hj-1GFJ"
   },
   "source": [
    "---\n",
    "# Identifying coding and noncoding regions of a gene sequence  \n",
    "\n",
    "Genes have both coding regions (exons) and non-coding regions (introns and UTRs). It is sometimes useful to separate the coding and non-coding regions from some gene sequence (not only when designing CRISPR reagents, but also for a number of other applications). WormBase — the database we are using to get the sequence of the gene we'll modify with CRISPR — has a useful format for denoting coding and non-coding regions. In WormBase, coding nucleotides are reported as uppercase characters, and non-coding nucleotides are reported as lowercase characters. Here, we'll use this format to count the number of coding and non-coding nucleotides in our `rol-6` sequence.\n",
    "\n",
    "In the code cell below, count the number of coding and non-coding nucleotides in the `rol-6` sequence, and store these numbers in variables. Finally, print out the variables. There are three hints for you if you need them, but try it on your own first. "
   ]
  },
  {
   "cell_type": "code",
   "execution_count": null,
   "metadata": {
    "cellView": "form",
    "id": "T7XgZcRnpEon"
   },
   "outputs": [],
   "source": [
    "#@title <font color='green'>Click here for Hint 1</font>\n",
    "%%capture\n",
    "\n",
    "'''\n",
    "Hint 1: You can check whether your nucleotide is in a coding region by checking whether the nucleotide is the same when the method `.upper()` is applied.\n",
    "'''"
   ]
  },
  {
   "cell_type": "code",
   "execution_count": null,
   "metadata": {
    "cellView": "form",
    "id": "TddcXbd5pJGN"
   },
   "outputs": [],
   "source": [
    "#@title <font color='green'>Click here for Hint 2</font>\n",
    "%%capture\n",
    "\n",
    "'''\n",
    "Hint 2: The `range()` function might be useful to you here.\n",
    "'''"
   ]
  },
  {
   "cell_type": "code",
   "execution_count": null,
   "metadata": {
    "cellView": "form",
    "id": "RSCuHt2opRCb"
   },
   "outputs": [],
   "source": [
    "#@title <font color='green'>Click here for Hint 3</font>\n",
    "%%capture\n",
    "\n",
    "'''\n",
    "Hint 3: It may help to start by defining the variables `nucleotides_coding` and `nucleotides_noncoding` and then use a loop and a conditional to increase each based on the input sequence. \n",
    "'''"
   ]
  },
  {
   "cell_type": "code",
   "execution_count": null,
   "metadata": {
    "id": "Ym8KJV4S1Pmy"
   },
   "outputs": [],
   "source": [
    "# Write code to count coding and noncoding nucleotides in your sequence "
   ]
  },
  {
   "cell_type": "code",
   "execution_count": null,
   "metadata": {
    "id": "I3gz6VnN1YQc"
   },
   "outputs": [],
   "source": [
    "# Use the `print()` function to check your work (since the sequence is short enough for you to count the nucleotides)"
   ]
  },
  {
   "cell_type": "markdown",
   "metadata": {
    "id": "7-xuX4h418MO"
   },
   "source": [
    "---\n",
    "# Iterating through a dictionary\n",
    "\n",
    "Recall that a `for` loop allows you to interact with each element in a data structure. Above, we looped through strings, but we can also loop through lists and dictionaries.\n",
    "\n",
    "Last week, we created a dictionary that stored several _C. elegans_ genes and the phenotypes that each gene is associated with. Here, we'll be working with a similar dictionary. Below is the same set of genes, along with the number of coding nucleoties in each gene (we're assuming no alternative splicing). These numbers are _very_ made up.\n",
    "\n",
    "*   `lin` (48)\n",
    "*   `unc` (36)\n",
    "*   `sur` (96)\n",
    "*   `bli` (9)\n",
    "*   `ste` (27) \n",
    "*   `let` (27)\n",
    "*   `rol` (18) \n",
    "*   `egl` (36)\n",
    "\n",
    "In the code cell below, store these values in a dictionary and give it a variable name."
   ]
  },
  {
   "cell_type": "code",
   "execution_count": null,
   "metadata": {
    "id": "Fn47bwkL1-Qq"
   },
   "outputs": [],
   "source": [
    "# Store your data type with each gene and the number of coding nucleotides here "
   ]
  },
  {
   "cell_type": "markdown",
   "metadata": {
    "id": "7NCeV6ZW2GbU"
   },
   "source": [
    "We have the number of coding nucleotides for each gene, but now we want to find the **length of each gene in amino acids**. Recall that one codon is three nucleotides (i.e., `CTT` codes for Leucine). \n",
    "\n",
    "Using your dictionary above, create a new dictionary that encodes, for each gene, the length of the gene in amino acids."
   ]
  },
  {
   "cell_type": "code",
   "execution_count": null,
   "metadata": {
    "id": "6QiMPon22MBe"
   },
   "outputs": [],
   "source": [
    "# Convert number of nucleotides to number of amino acids\n",
    "\n",
    "# Use a print statement to check your work "
   ]
  },
  {
   "cell_type": "markdown",
   "metadata": {
    "id": "BXFYPMuH1WFd"
   },
   "source": [
    "---\n",
    "# \"Inverting\" a Dictionary\n",
    "## Using your codon table \n",
    "\n",
    "The codon table you made last week allows you to look up a codon (`key`) and find the amino acid (`value`) it codes for. In the cell below, copy your codon table from last week's homework and store it as a variable. "
   ]
  },
  {
   "cell_type": "code",
   "execution_count": null,
   "metadata": {
    "id": "XfUUO2yi1dxr"
   },
   "outputs": [],
   "source": [
    "# Store your original codon table here"
   ]
  },
  {
   "cell_type": "markdown",
   "metadata": {
    "id": "GskcD71x1erw"
   },
   "source": [
    "Sometimes it's also useful to be able to look up which codons encode a given amino acid (we'll actually need something like this when we're designing a repair template for our CRISPR experiment).\n",
    "\n",
    "Our existing codon table can't do this. If you tried to look up the codons that encode Serine using something like `print(codon_table['S'])` it would give you an error. We cannot look up values in a dictionary, only keys.\n",
    "\n",
    "We intead need to make a dictionary that allows us to map from some given amino acid to a list of each of the codons (DNA) that encode that amino acid.\n",
    "\n",
    "In the code cell below, write code to \"invert\" your **codon-to-amino acid** dictionary from above to an **amino acid-to-codon** dictionary. \n",
    "\n",
    "There is a hint below, if you think you need it."
   ]
  },
  {
   "cell_type": "code",
   "execution_count": null,
   "metadata": {
    "cellView": "form",
    "id": "8IH94xLO1yBQ"
   },
   "outputs": [],
   "source": [
    "#@title <font color='green'>Click here for a hint</font>\n",
    "%%capture\n",
    "\n",
    "'''\n",
    "Your new dictionary should have amino acids (or STOP) as keys\n",
    "and a list or set of codons that encode that amino acid as values.\n",
    "\n",
    "Create an empty output dictionary. Loop through the orginal dictionary,\n",
    "adding each amino acid to the output dictionary if it does not already appear \n",
    "there, or adding to the associated list/set of codons if it is already\n",
    "in the output dictionary.\n",
    "'''"
   ]
  },
  {
   "cell_type": "code",
   "execution_count": null,
   "metadata": {
    "id": "QnDitBgm11f4"
   },
   "outputs": [],
   "source": [
    "# Write code to invert your codon table here "
   ]
  },
  {
   "cell_type": "markdown",
   "metadata": {
    "id": "jllomSyH13JM"
   },
   "source": [
    "Use this new dictionary to print out all codons that encode Serine (`'S'`)."
   ]
  },
  {
   "cell_type": "code",
   "execution_count": null,
   "metadata": {
    "id": "x8n-5T_R156h"
   },
   "outputs": [],
   "source": [
    "# What codons encode Serine? "
   ]
  },
  {
   "cell_type": "markdown",
   "metadata": {
    "id": "139La_fC2S5i"
   },
   "source": [
    "---\n",
    "# Translating a gene from DNA to amino acids"
   ]
  },
  {
   "cell_type": "markdown",
   "metadata": {
    "id": "_D-u5EBO2Thn"
   },
   "source": [
    "## Practice building functions \n",
    "\n",
    "Think about all the built-in functions in Python you've used so far. These are extremely handy and you'll continue to rely on them through the rest of this module.\n"
   ]
  },
  {
   "cell_type": "code",
   "execution_count": null,
   "metadata": {
    "id": "C-JX0eTb2Zi2"
   },
   "outputs": [],
   "source": [
    "# List some of the built-in functions here as a comment, \n",
    "# along with some notes about what they do and why you might want to use them"
   ]
  },
  {
   "cell_type": "markdown",
   "metadata": {
    "id": "GMC1lLGG2fWv"
   },
   "source": [
    "But sometimes you need a function that does something more specific, or something more complicated... basically a custom function that **you** build to do exactly what you want for your data. \n",
    "\n",
    "The general syntax to build a function in python is below.\n",
    "\n",
    "<font color=\"red\">**NOTE:**</font> You can include other functions (either built-in or functions you've previously defined) in a new function you're creating. "
   ]
  },
  {
   "cell_type": "markdown",
   "metadata": {
    "id": "pLzZGdnup6iq"
   },
   "source": [
    "```\n",
    "# Define the function by naming it. In parentheses, list any inputs that the function will use\n",
    "\n",
    "def my_function(input1, input2):\n",
    "\n",
    "  # Indented by one tab, you'll have code that manipulates those inputs\n",
    "  # in some way. This can be any mathematical operation, counting, a\n",
    "  # for loop, and if statement, or anything else. Here, we'll loop through\n",
    "  # input1 and input2 and add the value to an output variable\n",
    "\n",
    "  tot_sum = 0\n",
    "\n",
    "  for num in input1:\n",
    "    tot_sum += 1\n",
    "\n",
    "  for num in input2:\n",
    "    tot_sum += 1\n",
    "\n",
    "  # The function can then return some value or data structure you are\n",
    "  # interested in\n",
    "  \n",
    "  return tot_sum\n",
    "\n",
    "# outside of the function, we unindent, and we have the opportunity to\n",
    "run the function and store the output to a variable\n",
    "```"
   ]
  },
  {
   "cell_type": "markdown",
   "metadata": {
    "id": "8Un4hBHm2864"
   },
   "source": [
    "In the code cell below, build a function named `multiplication` that returns the product of two input numbers (either floats or integers)."
   ]
  },
  {
   "cell_type": "code",
   "execution_count": null,
   "metadata": {
    "id": "ZRFQfxkL2_Nj"
   },
   "outputs": [],
   "source": [
    "# Build your `multiplication` function here "
   ]
  },
  {
   "cell_type": "markdown",
   "metadata": {
    "id": "-MDy1Gtv3BFE"
   },
   "source": [
    "To call a function, you write the name of the function and then in parentheses write the inputs you want to pass to it. You can assign the value being returned to its own variable. \n",
    "\n",
    "In the cell below, call your `multiplication` function on any two numbers and assign the output to a variable called `my_product`. "
   ]
  },
  {
   "cell_type": "code",
   "execution_count": null,
   "metadata": {
    "id": "d6LYGVIe3EbJ"
   },
   "outputs": [],
   "source": [
    "# Call your `multiplication` function here and assign its output to a variable called `my_product`"
   ]
  },
  {
   "cell_type": "markdown",
   "metadata": {
    "id": "jtGDct9b3Pyv"
   },
   "source": [
    "## Building a function to print your gene sequence \n",
    "Now that we have some practice building functions, let's build one that can extract the coding sequence of an input gene sequence. In the code cell below, write a function that will take some wormbase-formatted gene sequence (including coding and non-coding regions) as an input, and will **return** just the coding sequence of the gene.\n",
    "\n",
    "There is a hint below, if you think you need it."
   ]
  },
  {
   "cell_type": "code",
   "execution_count": null,
   "metadata": {
    "id": "Ils3os9uaBVs"
   },
   "outputs": [],
   "source": [
    "# Define your function here "
   ]
  },
  {
   "cell_type": "code",
   "execution_count": null,
   "metadata": {
    "cellView": "form",
    "id": "T7bo6GQlqqtP"
   },
   "outputs": [],
   "source": [
    "#@title <font color='green'>Click here for a hint</font>\n",
    "%%capture\n",
    "\n",
    "'''\n",
    "Remember that in the wormbase format (which your sequence is in), capital letters are coding and lowercase letters are noncoding. \n",
    "Can your function identify which letters are uppercase? And then store those in something that is returned? \n",
    "'''"
   ]
  },
  {
   "cell_type": "markdown",
   "metadata": {
    "id": "rY0sbgId5Um1"
   },
   "source": [
    "Awesome! Let's test your new function out. Here's a new, extended gene sequence: `GCACATTCCAATTGTAGacaaattcaGTCGtgaacCTCGATatt`. In the code cell below, store this sequence as a variable. Then, **call** your function on this sequence and store the output to a new variable. Finally, print the stored value."
   ]
  },
  {
   "cell_type": "code",
   "execution_count": null,
   "metadata": {
    "id": "dHE8Jxy93ctX"
   },
   "outputs": [],
   "source": [
    "# Define the variable that contains your gene sequence\n",
    "\n",
    "# Call your function on your sequence and assign the output to a variable `coding_regions`\n",
    "\n",
    "# Print `coding_regions`"
   ]
  },
  {
   "cell_type": "markdown",
   "metadata": {
    "id": "7zi9kA-q3lzq"
   },
   "source": [
    "## Building a function to translate your gene sequence "
   ]
  },
  {
   "cell_type": "markdown",
   "metadata": {
    "id": "-cT43CD-3oQ2"
   },
   "source": [
    "Now that you know how to subset a gene sequence to just the nucleotides in the coding region, you are curious what the amino acid sequence of this gene is.\n",
    "\n",
    "In the code cell below, build a function that will take as input your whole gene sequence (coding and non-coding) and anything else it needs, and will return the amino acid sequence it codes for. The first step in your function should be using your _previous_ function to extract the coding sequence from the input sequence.\n",
    "\n",
    "Once you define your function, run it on the extended gene sequence, store the output, and then print the stored output.\n",
    "\n",
    "There are two hints below, if you think you need them."
   ]
  },
  {
   "cell_type": "code",
   "execution_count": null,
   "metadata": {
    "cellView": "form",
    "id": "_I40t9Qv7Hhg"
   },
   "outputs": [],
   "source": [
    "#@title <font color='green'>Click here for Hint 1</font>\n",
    "%%capture\n",
    "\n",
    "'''\n",
    "You'll need the codon table to be able to convert from codons to amino \n",
    "acids (the original, not the inverted one)\n",
    "'''"
   ]
  },
  {
   "cell_type": "code",
   "execution_count": null,
   "metadata": {
    "cellView": "form",
    "id": "RmJc_sym7lVx"
   },
   "outputs": [],
   "source": [
    "#@title <font color='green'>Click here for Hint 2</font>\n",
    "%%capture\n",
    "\n",
    "'''\n",
    "You'll likely want to use the `range()` function here to loop through the\n",
    "coding sequence. Try setting the step size to something other than 1,\n",
    "that makes a little more sense in this context... \n",
    "'''"
   ]
  },
  {
   "cell_type": "code",
   "execution_count": null,
   "metadata": {
    "id": "ldQ8d5f-3s7c"
   },
   "outputs": [],
   "source": [
    "# Build a function that returns the amino acid chain that a sequence codes for \n",
    "\n"
   ]
  },
  {
   "cell_type": "code",
   "execution_count": null,
   "metadata": {
    "id": "dTz6tkzYae7j"
   },
   "outputs": [],
   "source": [
    "# Call your function on your sequence and assign the output to a variable `amino_acid_seq`\n",
    "\n",
    "# Print `amino_acid_seq`"
   ]
  }
 ],
 "metadata": {
  "colab": {
   "provenance": []
  },
  "kernelspec": {
   "display_name": "Python 3",
   "language": "python",
   "name": "python3"
  },
  "language_info": {
   "codemirror_mode": {
    "name": "ipython",
    "version": 3
   },
   "file_extension": ".py",
   "mimetype": "text/x-python",
   "name": "python",
   "nbconvert_exporter": "python",
   "pygments_lexer": "ipython3",
   "version": "3.8.5"
  }
 },
 "nbformat": 4,
 "nbformat_minor": 1
}
