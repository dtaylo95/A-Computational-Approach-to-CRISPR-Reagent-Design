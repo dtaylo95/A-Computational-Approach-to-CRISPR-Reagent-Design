{
 "cells": [
  {
   "cell_type": "markdown",
   "metadata": {
    "id": "5arxkX8NCiJQ"
   },
   "source": [
    "# **Welcome to Week 2 of CRISPR Design**\n",
    "\n",
    "Before you get started, copy all of the cells below and paste them in at the bottom of the colab you completed for last week. You'll be doing the second of half of this assignment in that notebook as well.\n",
    "\n",
    "Also, if you did not manage to finish last week's assignment, no worries, but you will need some of the values you calculated from last week's assignment for this week. As such, we've given them to you: copy some or all of the code cell below if you need to."
   ]
  },
  {
   "cell_type": "code",
   "execution_count": null,
   "metadata": {
    "id": "sIYagmTgz8o_"
   },
   "outputs": [],
   "source": [
    "if insert_end == 'N':\n",
    "    insert_pos = 2016\n",
    "    PAM_pos = 2015\n",
    "    PAM_strand = '+'\n",
    "\n",
    "elif insert_end == 'C':\n",
    "    insert_pos = 7597\n",
    "    PAM_pos = 7605\n",
    "    PAM_strand = '-'"
   ]
  },
  {
   "cell_type": "markdown",
   "metadata": {
    "id": "okHqOc2aO0cp"
   },
   "source": [
    "---\n",
    "# Designing the Repair Template\n",
    "\n",
    "Congratulations! You've successfully found a PAM close to the insert position, and you've found the sequence of the crRNA that corresponds to that PAM. Now comes the hard part: designing the repair template that corresponds to your chosen PAM and crRNA. When designing a repair template, there are few things to remember:\n",
    "1. We need to prevent Cas9 from editing our target gene again after we've successfully added our tag. To do so, we need to modify either the sequence of the PAM or the sequence of the crRNA-binding region in our repair template. If we can modify the sequence of the PAM, that's generally preferable\n",
    "2. We need to insert the sequence of the tag at the correct position\n",
    "3. We need to include 60 bp of homology on either side of any modifications we make (including inserting the tag)\n",
    "\n",
    "Let's think about how we're going to do that. We essentially want to:\n",
    "1. Check if we can modify the PAM in our target sequence. If we can, determine the modified sequence and keep track of where it occurs\n",
    "2. If we can't modify the PAM, modify the crRNA-binding region. Keep track of where in the target gene our modifications occur\n",
    "3. Based on the locations of modifications within the target gene, generate the repair template with 60 bp homology and including the tag"
   ]
  },
  {
   "cell_type": "markdown",
   "metadata": {
    "id": "dbHN3Rh_D6YD"
   },
   "source": [
    "---\n",
    "## First things first\n",
    "\n",
    "The tag codes for a GFP protein, but also has an *unc-119* gene within one of the GFP introns. For this assignment, you don't need to understand why we've structured the tag this way, just make sure the whole tag sequence is inserted into the target gene sequence at the correct location."
   ]
  },
  {
   "cell_type": "code",
   "execution_count": null,
   "metadata": {
    "id": "BskWY6Y_Zzij"
   },
   "outputs": [],
   "source": [
    "tag = 'GCGGGCAGCGGTGGCAGTGGAGGTACCGGCGGAAGCGGTATGAGCAAAGGAGAAGAACTTTTCACTGGAGTTGTCCCAATTCTTGTTGAATTAGATGGTGATGTTAATGGGCACAAATTTTCTGTCAGTGGAGAGGGTGAAGGTGATGCAACATACGGAAAACTTACCCTTAAATTTATTTGCACTACTGGAAAACTACCTGTTCCATGGgtaagtttaaacatatatatactaactaaccctgattatttaaattttcagCCAACACTTGTCACTACTTTCTGTTATGGTGTTCAATGCTTCTCGAGATACCCAGATCATATGAAACGGCATGACTTTTTCAAGAGTGCCATGCCCGAAGGTTATGTACAGGAAAGAACTATATTTTTCAAAGATGACGGGAACTACAAGACACgtaagtttaaacagttcggtactaactaaccatacatatttaaattttcagGTGCTGAAGTCAAGTTTGAAGGTGATACCCTTGTTAATAGAATCGAGTTAAAAGGTATTGATTTTAAAGAAGATGGAAACATTCTTGGACACAAATTGGAATACAACTATAACTCACACAATGTATACATCATGGCAGACAAACAAAAGAATGGAATCAAAGTTgtaagtttaaacatgattttactaacataacttcgtataatgtatgctatacgaagttatttctagacattctctaatgaaaaaatctttcagttgaaattgaaaatgagttaaagttggagtttttattgaaaacagatttccgtgtgattagtgtttttagcgagtgtgacaggacagcgaaaaaatatagaaacaaggggggaactgaaaagcttaggaatgcattgaacatgagaaggggaaggggaaggaacaaactagacaggaattattggaatttaatcacatttggagttttttttctattcgacagaataattatccagaacatttttgtattaaatatttatgcatcatatgagtagtcggctttgttgtgcatgacgagtttgttatcgacgaaatagaagctgtcagaacgagtctcgtttggattgttgatcatgtcgtccactgaaaaagagattagtcttttgaattgtactttttagaataatgactcactgagttgttgagagagttgagggaactcatagatatgttcacagttgtttcgtgaattcggaatacagaatccgaattcaaagtcaaaacacttcagaaggcgatctttgaagaagtgacgttcgatcattcggaaatgatggattgggatgtctcctactttgaattccacagttgctccgaccgttttgagtttcaaaaagtttggagcaaatctataacgcacgtatcttgccgactcctgtggcgactcatcattctcctgatcgttctccggtttggcgatctcgaaaagcacttgctcagtgtccagatcacggatttggaacttggtgaactcgatgttatagatgttcgcagatggggagcataagaatcctaaatttatgttttaaactgaaatccaaagggagcaagataccttgagtgattcccggaagtgctaaaacgtcgttcggagtgatttgagctttcttcgcaagctccgattccgttgtgattccttgttcggtgcttggtggtggccgtggcatctggaaatatggaaaagttcaacaaaaagaaaagagaaaagaatgaaatcggatatcaagagttagttgagcggtttctctagttttctgagtctcacctgcgacgggaaggtcgccgagccgggtggaatcgattgttgttgctcggctttcatatcggtttggttggaagcggctgaaaacggaaagaagtggaagaaggaaaagagtgtggtgtgacaggaaaatggtaattagagggtgccaaataaccagctatattttgtttttttttgaaaacatttttaaaaagaaaaatacgataatgatatcagatggatttccggaaaactggtatgaaaaatttcaacctttttgagtacatgtaatcaaaatacactttgtaaattatcatttttattgaaactccaccatttttctatttataacgctaataatttgaaaaagaaacctgttgcgaaccgcggggtgaatcccaaaaacgaatgcgttttggtggagtgattgattcgaatcgaagaagaaaaagaagaagacgtggaatagagagctcactcttaaccgagcagcacacaccgacagaaaaaaaaatgaaatgaatgagggtcttcttcttcttcttcttcgaatgattgacagaaatgggaaaaagaggaagattgagaagggaaaaaggaaggagaaaagaagcagaagaagacgtcagagaggagaggaacgagcggaaaagcagcgggcgcaagtcatagaagtagcagagctggggagaagaagacactatccaagaaaggaatgacgagagagtatgcaaaggggtatagggtgcagacagaataggaacagaataacagatgatgagccaagaagagttgaaaagggcgatgaatttgtcatgtaacttaatttgggtcaatttgagcatgatgaattgaaatcatcccttgttgggagttaataaccggtttgttatcagaaaccctgtaatagaagggcgccctaactttgagccaattcatcccggtttctgtcaaatatatcaaaaagtggtcaactgacaaattgtttttgatattataataaacattttatccgttaacaattttcgaatactttttacaaggacttggataaattggctcaaagataacttcgtataatgtatgctatacgaagttattaactaatctgatttaaattttcagAACTTCAAAATTAGACACAACATTGAAGATGGAAGCGTTCAACTAGCAGACCATTATCAACAAAATACTCCAATTGGCGATGGCCCTGTCCTTTTACCAGACAACCATTACCTGTCCACACAATCTGCCCTTTCGAAAGATCCCAACGAAAAGAGAGACCACATGGTCCTTCTTGAGTTTGTAACAGCTGCTGGGATTACACATGGCATGGATGAACTATACAAAGGT'"
   ]
  },
  {
   "cell_type": "markdown",
   "metadata": {
    "id": "chUamFh2nF9z"
   },
   "source": [
    "---\n",
    "## Modifying the target gene\n",
    "\n",
    "So how do we check if we can modify a certain region in the target sequence (i.e., the PAM)?\n",
    "\n",
    "Perhaps counterintuitively, the easiest way to check if we are able to modify the PAM sequence without disrupting the target gene is to modify the target gene _as much as possible_ and then check if the PAM was modified. If we modify the target gene sequence as much as possible and the PAM **is** modified, then we can modify the PAM. If we modify  the sequence as much as possible and the PAM **is not** modified, then we cannot.\n",
    "\n",
    "We can then use this modified sequence later when we are building the repair template.\n"
   ]
  },
  {
   "cell_type": "markdown",
   "metadata": {
    "id": "hD6Nj2Ohrqtu"
   },
   "source": [
    "### As much as possible...\n",
    "\n",
    "How do we modify a DNA sequence \"as much as possible\"? For the non-coding regions, we should just be able to switch out each of the bases with another base. However, for the coding regions, we want to ensure that we're not changing the amino acid sequence of the gene; we only want to make synonymous changes.\n",
    "\n",
    "For the coding regions, for each codon, we can try to find the synonymous codon that is **most different** from the original codon. This is a little confusing, so let's consider a specific example:<br><br>\n",
    "\n",
    "The codon <font color='green'>**TCT**</font> encodes the amino acid <font color='green'>**Serine**</font>. Let's consider the other amino acids that encode Serine: <font color='blue'>**AGC**</font>, <font color='blue'>**TCG**</font>, <font color='blue'>**TCC**</font>, <font color='blue'>**AGT**</font>, and <font color='blue'>**TCA**</font>.<br><br>\n",
    "\n",
    "<font color='blue'>**TCA**</font>, <font color='blue'>**TCC**</font>, and <font color='blue'>**TCG**</font> are both <font color='red'>one</font> base different from our initial codon <font color='green'>**TCT**</font>. But <font color='blue'>**AGC**</font> and <font color='blue'>**AGT**</font> are both <font color='red'>three</font> bases different from the initial codon <font color='green'>**TCT**</font>. As such, when modifying the coding sequence our target gene _as much as possible_, we will change all instances of the codon  <font color='green'>**TCT**</font> to either <font color='blue'>**AGC**</font> or <font color='blue'>**AGT**</font>.\n",
    "\n",
    "Below is some code that creates a dictionary: `most_diff_syn_codon`. This dictionary encodes, for each possible codon, the synonymous codon that is most different from it. You're welcome to comb through the code to try to figure out what it is doing, but that isn't required for this assignment (especially because it utilizes an advanced feature called a `lambda function`). \n",
    "\n",
    "Regardless, the dictionary will work just like any other dictionary you've seen. Run the code, and in the cell below, look up the key `'TCT'` in this dictionary and print the associated value, just to ensure you understand how the dictionary works."
   ]
  },
  {
   "cell_type": "code",
   "execution_count": null,
   "metadata": {
    "id": "dci9Lw1R45UH"
   },
   "outputs": [],
   "source": [
    "def hamming_dist(str1, str2):\n",
    "  dist = 0\n",
    "  for i in range(len(str1)):\n",
    "    if str1[i] != str2[i]:\n",
    "      dist += 1\n",
    "  return dist\n",
    "\n",
    "\n",
    "codon_table = {\n",
    "    'ATA':'I', 'ATC':'I', 'ATT':'I', 'ATG':'M',\n",
    "    'ACA':'T', 'ACC':'T', 'ACG':'T', 'ACT':'T',\n",
    "    'AAC':'N', 'AAT':'N', 'AAA':'K', 'AAG':'K',\n",
    "    'AGC':'S', 'AGT':'S', 'AGA':'R', 'AGG':'R',\n",
    "    'CTA':'L', 'CTC':'L', 'CTG':'L', 'CTT':'L',\n",
    "    'CCA':'P', 'CCC':'P', 'CCG':'P', 'CCT':'P',\n",
    "    'CAC':'H', 'CAT':'H', 'CAA':'Q', 'CAG':'Q',\n",
    "    'CGA':'R', 'CGC':'R', 'CGG':'R', 'CGT':'R',\n",
    "    'GTA':'V', 'GTC':'V', 'GTG':'V', 'GTT':'V',\n",
    "    'GCA':'A', 'GCC':'A', 'GCG':'A', 'GCT':'A',\n",
    "    'GAC':'D', 'GAT':'D', 'GAA':'E', 'GAG':'E',\n",
    "    'GGA':'G', 'GGC':'G', 'GGG':'G', 'GGT':'G',\n",
    "    'TCA':'S', 'TCC':'S', 'TCG':'S', 'TCT':'S',\n",
    "    'TTC':'F', 'TTT':'F', 'TTA':'L', 'TTG':'L',\n",
    "    'TAC':'Y', 'TAT':'Y', 'TAA':'_', 'TAG':'_',\n",
    "    'TGC':'C', 'TGT':'C', 'TGA':'_', 'TGG':'W'}\n",
    "\n",
    "AA_to_codon = {}\n",
    "\n",
    "for codon, AA in codon_table.items():\n",
    "  AA_to_codon.setdefault(AA, set())\n",
    "  AA_to_codon[AA].add(codon)\n",
    "\n",
    "most_diff_syn_codon = {}\n",
    "for AA in AA_to_codon:\n",
    "  for codon in AA_to_codon[AA]:\n",
    "    other_codons = AA_to_codon[AA]\n",
    "    sorted_codons = sorted(other_codons, key=lambda x: hamming_dist(x, codon))\n",
    "    most_diff_syn_codon[codon] = sorted_codons[-1]"
   ]
  },
  {
   "cell_type": "code",
   "execution_count": null,
   "metadata": {
    "id": "PCoDJfxi5Oyj"
   },
   "outputs": [],
   "source": [
    "# print the value associated with \"TCT\" in most_diff_syn_codon"
   ]
  },
  {
   "cell_type": "markdown",
   "metadata": {
    "id": "exsWcOLR5SnE"
   },
   "source": [
    "Now we have a way to find the **most different** synonymous codon for each codon in a sequence. In the code cell below, write a function that takes some gene sequence as an input and returns the **most modified** version of that gene. This must do two things:\n",
    "1. For non-coding regions, change every base\n",
    "2. For coding regions, each codon must be swapped out with the most different synonymous codon\n",
    "\n",
    "There is a hint below, if you think you need it."
   ]
  },
  {
   "cell_type": "code",
   "execution_count": null,
   "metadata": {
    "cellView": "form",
    "id": "LPx4J8wv5Uoe"
   },
   "outputs": [],
   "source": [
    "#@title <font color='green'>Click here for a hint</font>\n",
    "%%capture\n",
    "\n",
    "'''\n",
    "def modify_sequence(input_seq):\n",
    "\n",
    "  # This part of the function has not been given to you in this hint, but\n",
    "  # here's what it should do: \n",
    "  # Pull out the coding sequence and modify it as much as possible\n",
    "  # It may be helpful to look at your code from Intro Part 2 where you\n",
    "  # translated an input gene sequence\n",
    "  # Let's say the modified sequence is stored in the variable `mod_coding_seq`\n",
    "\n",
    "  coding_pos = 0\n",
    "\n",
    "  output_seq = ''\n",
    "\n",
    "  for i in range(len(input_seq)):\n",
    "    if input_seq[i].upper() == input_seq[i]:\n",
    "      output_seq += mod_coding_seq[coding_pos]\n",
    "      coding_pos += 1\n",
    "    else:\n",
    "      # This part of the function also has not been given to you. If the\n",
    "      # base at index i in the input sequence is non-coding, do this:\n",
    "      # Append a base different from the one at input_seq[i] to output_seq\n",
    "  \n",
    "  return output_seq\n",
    "'''"
   ]
  },
  {
   "cell_type": "code",
   "execution_count": 1,
   "metadata": {
    "id": "p3RxOvtQCK0V"
   },
   "outputs": [],
   "source": [
    "# Define a function that will take an input gene sequence (in WormBase format)\n",
    "# and modify it as much as possible without changing the translated amino\n",
    "# acid sequence"
   ]
  },
  {
   "cell_type": "markdown",
   "metadata": {
    "id": "pZ-YocTjLgNJ"
   },
   "source": [
    "In the code cell below, check that your function works by running it on the test sequence provided and printing the output."
   ]
  },
  {
   "cell_type": "code",
   "execution_count": null,
   "metadata": {
    "id": "5Wdv-ghmLxdH"
   },
   "outputs": [],
   "source": [
    "test_seq = 'aggatATGGAATaaggttaGCTTGtgccat'\n",
    "\n",
    "# Check that your function works on this sequence"
   ]
  },
  {
   "cell_type": "markdown",
   "metadata": {
    "id": "bc9xYbAmul8A"
   },
   "source": [
    "You should now have a function that takes some input gene sequence and returns the most modified version of that gene that still generates the same amino acid sequence. In the code cell below, run this function on your target gene sequence and store the output in a variable."
   ]
  },
  {
   "cell_type": "code",
   "execution_count": null,
   "metadata": {
    "id": "PwK1AGPDuo6l"
   },
   "outputs": [],
   "source": [
    "# Run your function on the target sequence and store the output in a variable"
   ]
  },
  {
   "cell_type": "markdown",
   "metadata": {
    "id": "mb3qxdqWE45r"
   },
   "source": [
    "---\n",
    "## Checking if the PAM Can Be Modified\n",
    "\n",
    "Now, we want to check if the PAM sequence we're using was sufficiently modified in this \"fully modified sequence\". You'll need to use both the position of the PAM in the target sequence and it's strandedness to determine whether this is the case. Keep in mind, it is not sufficient to modify just the N in <font color='red'>**N**</font>**GG**, as doing so will not actually disrupt the PAM. You will need to modify at least one of the two Gs.\n",
    "\n",
    "In the code cell below, check whether the PAM sequence was sufficiently modified, and store this as a boolean in a variable."
   ]
  },
  {
   "cell_type": "code",
   "execution_count": null,
   "metadata": {
    "id": "Oan88laWu2mo"
   },
   "outputs": [],
   "source": [
    "# Check if the PAM was modified in your fully modified sequence\n",
    "# This will differ based on whether your PAM is on the forward or reverse strand\n",
    "# Store this as a boolean in a variable"
   ]
  },
  {
   "cell_type": "markdown",
   "metadata": {
    "id": "GeM390OYOQPt"
   },
   "source": [
    "Great! You should now know whether the PAM can be modified or not. To ensure that your code ran correctly, print the boolean value you stored in the code cell above.\n",
    "\n",
    "Double check that the output makes sense given the target gene sequence and your choice of terminus. As a reminder, you should check that the output makes sense both when inserting at the N-terminus and when inserting at the C-terminus. \n",
    "\n",
    "<font color=\"red\">**BIG NOTE:**</font> For this example gene sequence, when inserting at the N-terminus, you **SHOULD NOT** be able to modify the PAM, and when inserting at the C-terminus, you **SHOULD** be able to modify the PAM. This isn't always going to be the case, but it is for the sequence we've chosen here."
   ]
  },
  {
   "cell_type": "code",
   "execution_count": null,
   "metadata": {
    "id": "ACGsGfhpQCtb"
   },
   "outputs": [],
   "source": [
    "# Print whether the PAM was modified or not"
   ]
  },
  {
   "cell_type": "markdown",
   "metadata": {
    "id": "AUHxsouq7sE_"
   },
   "source": [
    "We should now know whether or not we are able to modify our PAM sequence when building our repair template. But this is not enough information just yet. Remember: when designing our repair template, we need to include 60bp of homology on either end of any modifications we make. This means **we need to keep track of where we're modifying our sequence**.\n",
    "\n",
    "This is actually easier said than done. Let's consider the case when we can modify our PAM. When we modify our PAM, it's possible we're modifying 0, 1, or 2 codons. If we're modifying a codon, we may be modifying more bases than are included in the PAM. Consider the following example:\n",
    "\n",
    "Our PAM is on the reverse strand and falls between two codons, encoding Isoleucine (I) and Arginine (R).\n",
    "\n",
    "**<center>...AT<font color='red'>CCG</font>A...</center>**\n",
    "\n",
    "When we modify this as much as possible, the sequence becomes **...ATAAGG...**\n",
    "\n",
    "It is not only the sequence \"CC\" that is modified. Rather, parts of both codons are modified. The modified region is not only from the position of the first C to the second C; it is the region from the first C to the last A (which becomes a G).\n",
    "\n",
    "To be able to account for this nuance, we'll need to be able to keep track of which codon each base is part of, and which \"frame\" each base is in."
   ]
  },
  {
   "cell_type": "markdown",
   "metadata": {},
   "source": [
    "In the code cell below, write a function that takes some gene sequence as input and returns a list of the same length that encodes the frame at each position. It should follow the following set of rules:\n",
    "\n",
    "1. If the base is the first base in a codon, its frame should be encoded as `0`\n",
    "2. If the base is the second base in a codon, its frame should be encoded as `1`\n",
    "3. If the base is the third base in a codon, its frame should be encoded as `2`\n",
    "4. Finally, if the base is in a non-coding region, its frame should be encoded as `-1`\n",
    "\n",
    "There is a hint below, if you think you need it."
   ]
  },
  {
   "cell_type": "code",
   "execution_count": null,
   "metadata": {
    "cellView": "form",
    "id": "Nrr9DMUB8qX0"
   },
   "outputs": [],
   "source": [
    "#@title <font color='green'>Click here for a hint</font>\n",
    "%%capture\n",
    "\n",
    "'''\n",
    "Keep track of which frame you're in for the coding sequence as you move\n",
    "through the gene sequence (starting at 0). The modulus (%) operator may\n",
    "be useful to you here.\n",
    "'''"
   ]
  },
  {
   "cell_type": "code",
   "execution_count": null,
   "metadata": {
    "id": "qYsl58Rs9bzm"
   },
   "outputs": [],
   "source": [
    "# Define a function that determines the frame of each base in an input gene\n",
    "# sequence (in wormbase format). Return this as a list."
   ]
  },
  {
   "cell_type": "markdown",
   "metadata": {
    "id": "BbqLftXBUdqZ"
   },
   "source": [
    "In the code cell below, check that your function works by running it on the test sequence provided and printing the output."
   ]
  },
  {
   "cell_type": "code",
   "execution_count": null,
   "metadata": {
    "id": "f0m9P-DCUdqa"
   },
   "outputs": [],
   "source": [
    "test_seq = 'aggatATGGAATaaggttaGCTTGtgccat'\n",
    "\n",
    "# Check that your function works on this sequence"
   ]
  },
  {
   "cell_type": "markdown",
   "metadata": {
    "id": "OAlePWJ_FSD0"
   },
   "source": [
    "Once your function works, run it on the target gene sequence and store the output frame list in a variable to use later."
   ]
  },
  {
   "cell_type": "code",
   "execution_count": null,
   "metadata": {
    "id": "PRUgHwrSFtBf"
   },
   "outputs": [],
   "source": [
    "# Run your function on the target sequence and store the output in a variable"
   ]
  },
  {
   "cell_type": "markdown",
   "metadata": {
    "id": "ZlntCI9ygHBi"
   },
   "source": [
    "## Modifying the PAM\n",
    "\n",
    "Let's assume that we *could* modify the PAM (as should be the case if we're inserting the tag at the C-terminus). We now need to track where the modifications to the PAM actually are. When doing this, there is an assumption we're going to use that will make our lives easier. The assumption is this: our PAM, and any codons that it is part of, will not overlap an intronic region. It may overlap one of the UTRs, but it will not overlap an intron.\n",
    "\n",
    "This is likely a fair assumption, because our PAM should be relatively close to the beginning or end of the coding sequence; so this assumption will hold unless the first or last exon is incredibly short. It should be noted that this assumption _can_ be violated. Genes do exist with quite small exons, and in the future, you would need to modify your code to handle that. But the gene we're giving you for this assignment does not violate this assumption, and so we're going to move forward.\n",
    "\n",
    "As such, there are four possibilities regarding the two relevant bases of the PAM:\n",
    "1. They are both contained within a single codon\n",
    "2. They are split between two separate codons (as in the example above)\n",
    "3. One exists within a codon, and the other is within a UTR\n",
    "4. Both are within a UTR\n",
    "\n",
    "In the code cell below, determine the start and end positions of the region in the target gene that is modified when we modify the PAM. **We'll assume we can modify the PAM as much as possible**. The end position should be 1 greater than the position of the last modified base (we're going to want to use it to index the target sequence later). Store both of these values in variables.\n",
    "\n",
    "<font color=\"red\">**NOTE:**</font> This code should only run _if_ the PAM is able to be modified, as determined above.\n",
    "\n",
    "There is a hint below if you want to try doing this part yourself, BUT we've also given you the solution, as this part of the code is fairly convoluted."
   ]
  },
  {
   "cell_type": "code",
   "execution_count": null,
   "metadata": {
    "cellView": "form",
    "id": "Lw8LTjJGtUR8"
   },
   "outputs": [],
   "source": [
    "#@title <font color='green'>Click here for a hint</font>\n",
    "%%capture\n",
    "\n",
    "'''\n",
    "Try a set of four conditionals checking which of the four possibilities\n",
    "from above the chosen PAM falls into. (These are in the same order as above)\n",
    "1. The frame of first of the two relevant positions in the PAM is 0 or 1\n",
    "2. The frame of the first relevant position is 2, and the frame of the second\n",
    "   relevant position is 0\n",
    "3. The frame of the first relevant position is 2, and the frame of the second\n",
    "   relevant position is -1\n",
    "4. The frames of the two relevant positions are both -1\n",
    "\n",
    "For each of these conditions, determine the range of positions at which\n",
    "modifications could have been made (e.g. for the case in which the relevant\n",
    "bases overlap two codons, the region from the beginning of the first codon\n",
    "to the end of the second codon), and then narrow down the position of\n",
    "the first modified base and the last.\n",
    "'''"
   ]
  },
  {
   "cell_type": "code",
   "execution_count": null,
   "metadata": {
    "cellView": "form",
    "id": "TM-rk2un5_Tc"
   },
   "outputs": [],
   "source": [
    "#@title <font color='green'>Click here for the **SOLUTION**</font>\n",
    "%%capture\n",
    "\n",
    "# This solution assumes that the PAM start position (index) is stored in the\n",
    "# variable `PAM_pos` and that the PAM strand is either \"+\"\" (forward) or\n",
    "# \"-\" (reverse) and stored in the variable `PAM_strand`. It also assumes you\n",
    "# have a variable `PAM_modifed` that stores a boolean based on whether you\n",
    "# are able to modify the PAM (True) or not (False).\n",
    "\n",
    "'''\n",
    "if PAM_modified:\n",
    "  \n",
    "  if PAM_strand == '+':\n",
    "    PAM_nuc_start = PAM_pos + 1\n",
    "  else:\n",
    "    PAM_nuc_start = PAM_pos\n",
    "\n",
    "  if frame_positions[PAM_nuc_start] == -1 and frame_positions[PAM_nuc_start+1] == -1:\n",
    "    check_region_start = PAM_nuc_start\n",
    "    check_region_end = PAM_nuc_start + 2\n",
    "\n",
    "  elif frame_positions[PAM_nuc_start] == 2 and frame_positions[PAM_nuc_start+1] == -1:\n",
    "    if fully_modified_seq[PAM_nuc_start].upper() != target_seq[PAM_nuc_start].upper():\n",
    "      check_region_start = PAM_nuc_start - 2\n",
    "    else:\n",
    "      check_region_start = PAM_nuc_start + 1\n",
    "    check_region_end = PAM_nuc_start + 2\n",
    "\n",
    "  elif frame_positions[PAM_nuc_start] == 2 and frame_positions[PAM_nuc_start+1] == 0:\n",
    "    if fully_modified_seq[PAM_nuc_start] != target_seq[PAM_nuc_start]:\n",
    "      check_region_start = PAM_nuc_start - 2\n",
    "    else:\n",
    "      check_region_start = PAM_nuc_start + 1\n",
    "    if fully_modified_seq[PAM_nuc_start+1] != target_seq[PAM_nuc_start+1]:\n",
    "      check_region_end = PAM_nuc_start + 4\n",
    "    else:\n",
    "      check_region_end = PAM_nuc_start + 1\n",
    "\n",
    "  elif frame_positions[PAM_nuc_start] == 0 or frame_positions[PAM_nuc_start] == 1:\n",
    "    check_region_start = PAM_nuc_start - frame_positions[PAM_nuc_start]\n",
    "    check_region_end = check_region_end + 3\n",
    "\n",
    "  PAM_modified_region_start = check_region_end\n",
    "  PAM_modified_region_end = check_region_start\n",
    "\n",
    "  for i in range(check_region_start, check_region_end):\n",
    "    if fully_modified_seq[i].upper() != target_seq[i].upper():\n",
    "      PAM_modified_region_start = min(PAM_modified_region_start, i)\n",
    "      PAM_modified_region_end = max(PAM_modified_region_end, i+1)\n",
    "'''"
   ]
  },
  {
   "cell_type": "code",
   "execution_count": null,
   "metadata": {
    "id": "EF7OQ40TJ9hk"
   },
   "outputs": [],
   "source": [
    "# If able to modify the PAM, find which of the 4 above scenarios it falls under\n",
    "# and determine which positions are modified "
   ]
  },
  {
   "cell_type": "markdown",
   "metadata": {
    "id": "7lP0Wx9EKUdV"
   },
   "source": [
    "---\n",
    "## Modifying the crRNA-binding Region\n",
    "\n",
    "At this point, we've determined whether we are able to modify the PAM, and if so, we've recorded the range of positions in the target sequence that will be modified. But what if we were not able to modify the PAM sequence? (For the sequence we're using here, you shouldn't be able to modify the PAM if you are inserting the tag at the N-terminus.) If that's the case, we will instead need to modify the crRNA-binding region.\n",
    "\n",
    "As before, we'll want to determine the range of the positions in the target sequence that will be modified. This will actually look very similar to what we did for the PAM sequence. We'll make the same assumption here that we did with the PAM sequence: the crRNA-binding region will not overlap any intronic regions.\n",
    "\n",
    "In the code cell below, determine the start and end positions of the region in the target sequence that is changed when we modify the crRNA-binding region. As before, the end position should be 1 greater than the position of the last modified base. If the start or end of the crRNA-binding region overlaps _part_ of a codon, assume you'll modify that codon if you can.\n",
    "\n",
    "<font color=\"red\">**NOTE:**</font> This code should only run if the PAM _is not_ modified.\n",
    "\n",
    "There is a hint below, if you think you need it."
   ]
  },
  {
   "cell_type": "code",
   "execution_count": null,
   "metadata": {
    "cellView": "form",
    "id": "9a18-HKV5BTf"
   },
   "outputs": [],
   "source": [
    "#@title <font color='green'>Click here for a hint</font>\n",
    "%%capture\n",
    "\n",
    "'''\n",
    "Check the frame of the first and last base in the crRNA-binding region. If\n",
    "either the first or last base falls in the middle of a codon, update the\n",
    "region to check for modifications as necessary.\n",
    "\n",
    "As with the PAM, narrow down the first and last base within this region that\n",
    "are actually modified.\n",
    "'''"
   ]
  },
  {
   "cell_type": "code",
   "execution_count": null,
   "metadata": {
    "id": "uS1C3Eoy6cN2"
   },
   "outputs": [],
   "source": [
    "# If you are NOT able to modify the PAM, find the start and end position of the\n",
    "# region around the crRNA-binding region that is modified. Remember, if the ends\n",
    "# of the crRNA-binding region overlap codons, we'll assume we're going to try\n",
    "# to modify those codons as well."
   ]
  },
  {
   "cell_type": "markdown",
   "metadata": {
    "id": "-t4X_-R46ddS"
   },
   "source": [
    "---\n",
    "## Generating the Repair Template\n",
    "\n",
    "Congratulations! You now have all the pieces you need to put together your repair template:\n",
    "1. The sequence of the tag\n",
    "2. The insert position\n",
    "3. The positions of all other modifications to be made (either to the PAM or the crRNA-binding region)\n",
    "\n",
    "Recall that the repair template needs to have 60 bp of homology on either end of any modifications. An easy place to start is determining the start and end position of the repair template in the target sequence. **Remember, inserting the tag also counts as a modification**.\n",
    "\n",
    "In the code cell below, determine the start and end position (in the target sequence) of the repair template. The start should be 60bp upstream of any modifications (including inserting the tag), and the end should be 60bp downstream of any modifications. Store both of these positions in variables.\n",
    "\n",
    "<font color=\"red\">**NOTE:**</font> These positions will depend on whether PAM was modified or if the crRNA-binding region was modified.\n"
   ]
  },
  {
   "cell_type": "code",
   "execution_count": null,
   "metadata": {
    "id": "45xVBpwuFND3"
   },
   "outputs": [],
   "source": [
    "# Find the start position and end position of the portion of the \n",
    "# target sequence that will be included in the repair template and\n",
    "# store these positions in variables. Remember that we include 60bp\n",
    "# of homology in the repair template"
   ]
  },
  {
   "cell_type": "markdown",
   "metadata": {
    "id": "6EauFacYFNO7"
   },
   "source": [
    "Now that you have the start and end position of the repair template in the target sequence, we can finally put the repair template togther.\n",
    "\n",
    "In the code cell below, construct the repair template using the following pieces of information:\n",
    "1. The start and end position of the repair template in the target sequence\n",
    "2. The start and end position of the modifications made to either the PAM or the crRNA-binding region\n",
    "3. The fully modified sequence created above\n",
    "4. The insert position\n",
    "5. The sequence of the tag\n",
    "\n",
    "Print your complete repair template, and you're done!\n",
    "\n",
    "There is a hint below, if you think you need it."
   ]
  },
  {
   "cell_type": "code",
   "execution_count": null,
   "metadata": {
    "cellView": "form",
    "id": "LeoFsQWsGsRt"
   },
   "outputs": [],
   "source": [
    "#@title <font color='green'>Click here for a hint</font>\n",
    "%%capture\n",
    "\n",
    "'''\n",
    "Create an intial repair template without the tag first (i.e. one that\n",
    "comprises just the modifications to the PAM or crRNA-binding region), and\n",
    "then add the tag afterwards.\n",
    "'''"
   ]
  },
  {
   "cell_type": "code",
   "execution_count": null,
   "metadata": {
    "id": "SOLbZ7n3HaVQ"
   },
   "outputs": [],
   "source": [
    "# Find the sequence of the repair template and store it in a variable\n",
    "\n",
    "# Print the sequence of the repair template"
   ]
  },
  {
   "cell_type": "markdown",
   "metadata": {
    "id": "VJDqP7ljHasa"
   },
   "source": [
    "---\n",
    "# Congratulations!\n",
    "\n",
    "And that's it! You're done! You've written a program in Python that takes some target gene and tag of interest, and creates the crRNA and repair template necessary to add that tag to the target gene. As long as your target gene is in WormBase format (such that coding sequence is uppercase and non-coding sequence is lower case), this program should be able to create CRISPR reagents for any gene and tag. I don't know about you, but I think that's pretty cool.\n",
    "\n",
    "There are, of course, some caveats. First, remember the assumption we made about the crRNA-binding region and the PAM: we assumed they did not overlap any intronic regions. Why did we make this assumption? Imagine a codon that is split by an intron. If we need to modify this codon when modifying either the PAM or the crRNA-binding region, it's possible the modified region could stretch across the intron, making our repair template huge. This assumption is, of course, not always going to be true. It's possible that one of the first or last exons could be sufficiently small that either of these regions could overlap an intron. Think about how you could modify your code to deal with a situation like this.\n",
    "\n",
    "There are some other assumptions we made, whether we knew it or not. We assumed we could modify non-coding sequences however we wanted. What if we accidently modified a splice site such that it was no longer functional? What if we modified the ribosome binding site? Non-coding regions are not necessarily functionless. Think about how you could modify your program to incorporate knowledge about regulatory regions like this.\n",
    "\n",
    "If you want to run your code with different target gene/tag combos, just change the parameters you set at the beginning. You can change the sequence of the target gene, the sequence of the tag, or the insert terminus (either N or C). Instead of running each code cell one at time, you can run your whole notebook sequentially by pressing `Ctrl + F9` (or selecting \"Run All\" under the Runtime tab at the top of the page).\n",
    "\n",
    "Regardless of these caveats, it's still incredibly impressive what you've put together here, and we hope you had fun figuring it out! If you did have fun, we certainly encourage you to continue building these skills further. If you've gotten the coding bug, there are a lot of ways to keep it up. JHU has a number of courses that either teach you programming or have you learn it in application to another subject. If you want to talk about other ways to learn coding, or to expand or modify this code here, please get in touch - we'd be so happy to hear from you (Dylan Taylor - dtaylo95@jhu.edu; Sara Carioscia - saracarioscia@jhu.edu).\n"
   ]
  }
 ],
 "metadata": {
  "colab": {
   "provenance": []
  },
  "kernelspec": {
   "display_name": "Python 3",
   "language": "python",
   "name": "python3"
  },
  "language_info": {
   "codemirror_mode": {
    "name": "ipython",
    "version": 3
   },
   "file_extension": ".py",
   "mimetype": "text/x-python",
   "name": "python",
   "nbconvert_exporter": "python",
   "pygments_lexer": "ipython3",
   "version": "3.8.5"
  }
 },
 "nbformat": 4,
 "nbformat_minor": 1
}
